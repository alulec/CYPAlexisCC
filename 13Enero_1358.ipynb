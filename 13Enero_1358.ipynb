{
  "nbformat": 4,
  "nbformat_minor": 0,
  "metadata": {
    "colab": {
      "name": "13Enero_1358.ipynb",
      "provenance": [],
      "authorship_tag": "ABX9TyPcSizI5+qxdw2XtN/uydgN",
      "include_colab_link": true
    },
    "kernelspec": {
      "name": "python3",
      "display_name": "Python 3"
    }
  },
  "cells": [
    {
      "cell_type": "markdown",
      "metadata": {
        "id": "view-in-github",
        "colab_type": "text"
      },
      "source": [
        "<a href=\"https://colab.research.google.com/github/alulec/CYPAlexisCC/blob/master/13Enero_1358.ipynb\" target=\"_parent\"><img src=\"https://colab.research.google.com/assets/colab-badge.svg\" alt=\"Open In Colab\"/></a>"
      ]
    },
    {
      "cell_type": "code",
      "metadata": {
        "colab": {
          "base_uri": "https://localhost:8080/"
        },
        "id": "7g7bRoIFkuJh",
        "outputId": "fe57ed7b-0ac3-48fe-c02b-6c1bbb7359a5"
      },
      "source": [
        "def factorial(n):\r\n",
        "    if n == 0:\r\n",
        "        return 1\r\n",
        "    else:\r\n",
        "        return factorial(n -1) *n\r\n",
        "for n in range(21):\r\n",
        "    print(factorial(n))\r\n"
      ],
      "execution_count": 30,
      "outputs": [
        {
          "output_type": "stream",
          "text": [
            "1\n",
            "1\n",
            "2\n",
            "6\n",
            "24\n",
            "120\n",
            "720\n",
            "5040\n",
            "40320\n",
            "362880\n",
            "3628800\n",
            "39916800\n",
            "479001600\n",
            "6227020800\n",
            "87178291200\n",
            "1307674368000\n",
            "20922789888000\n",
            "355687428096000\n",
            "6402373705728000\n",
            "121645100408832000\n",
            "2432902008176640000\n"
          ],
          "name": "stdout"
        }
      ]
    },
    {
      "cell_type": "code",
      "metadata": {
        "colab": {
          "base_uri": "https://localhost:8080/"
        },
        "id": "uGlDQHOznBem",
        "outputId": "536a17f1-ba62-4644-dc29-e3c11ae2edff"
      },
      "source": [
        "def printRev(n):\r\n",
        "    if n > 0:\r\n",
        "        printRev(n-1)\r\n",
        "        print(n)\r\n",
        "printRev(5)"
      ],
      "execution_count": 31,
      "outputs": [
        {
          "output_type": "stream",
          "text": [
            "1\n",
            "2\n",
            "3\n",
            "4\n",
            "5\n"
          ],
          "name": "stdout"
        }
      ]
    },
    {
      "cell_type": "code",
      "metadata": {
        "colab": {
          "base_uri": "https://localhost:8080/"
        },
        "id": "nFi8nfgfnZTK",
        "outputId": "4fa27afd-8463-4bec-de02-7b2d8b54b5b7"
      },
      "source": [
        "def fibonacci(n):\r\n",
        "    if n==0:\r\n",
        "        return 0\r\n",
        "    elif n==1:\r\n",
        "        return 1\r\n",
        "    else:\r\n",
        "        return fibonacci(n-1) + fibonacci(n-2)\r\n",
        "\r\n",
        "fibonacci(8)"
      ],
      "execution_count": 32,
      "outputs": [
        {
          "output_type": "execute_result",
          "data": {
            "text/plain": [
              "21"
            ]
          },
          "metadata": {
            "tags": []
          },
          "execution_count": 32
        }
      ]
    },
    {
      "cell_type": "code",
      "metadata": {
        "colab": {
          "base_uri": "https://localhost:8080/"
        },
        "id": "foLBHuOTfuL2",
        "outputId": "f1072947-915d-4fe7-fe83-e0925cc0b33a"
      },
      "source": [
        "\"\"\"\r\n",
        "1. Crear una lista de enteros en Python y realizar la suma con recursividad,\r\n",
        "el caso base es cuando en la lista quede un elemento o cuando la longitud sea cero.\r\n",
        "\"\"\"\r\n",
        "num = [1,54, 98, 3, 45, 64, 78, 46, 48, 2, 7, 0, 8, 54]\r\n",
        "num2 = [1,2,3,4,5]\r\n",
        "\r\n",
        "def suma_Lista(lista):\r\n",
        "    if len(lista) > 0:\r\n",
        "        return lista.pop() + suma_Lista(lista)\r\n",
        "    else:\r\n",
        "        return 0\r\n",
        "        \r\n",
        "\r\n",
        "suma_Lista(num)"
      ],
      "execution_count": 33,
      "outputs": [
        {
          "output_type": "execute_result",
          "data": {
            "text/plain": [
              "508"
            ]
          },
          "metadata": {
            "tags": []
          },
          "execution_count": 33
        }
      ]
    },
    {
      "cell_type": "code",
      "metadata": {
        "colab": {
          "base_uri": "https://localhost:8080/"
        },
        "id": "qRKxCiPLloux",
        "outputId": "2b46a6d5-36f1-4ad7-d780-58c04e211296"
      },
      "source": [
        "# 2. Hacer un contador regresivo con recursión.\r\n",
        "\r\n",
        "def contador(n):\r\n",
        "    if n > 0:\r\n",
        "        print(n)\r\n",
        "        contador(n-1)\r\n",
        "        #print(n)\r\n",
        "    else:\r\n",
        "        print(\"Se acabo el tiempo\")\r\n",
        "    \r\n",
        "contador(5)"
      ],
      "execution_count": 34,
      "outputs": [
        {
          "output_type": "stream",
          "text": [
            "5\n",
            "4\n",
            "3\n",
            "2\n",
            "1\n",
            "Se acabo el tiempo\n"
          ],
          "name": "stdout"
        }
      ]
    },
    {
      "cell_type": "code",
      "metadata": {
        "id": "I-lVjNO2qZfS"
      },
      "source": [
        "class Stack:\r\n",
        "    def __init__(self):\r\n",
        "        self.__data = []\r\n",
        "        self.__size = 0\r\n",
        "\r\n",
        "    def length(self):\r\n",
        "        return self.__size\r\n",
        "\r\n",
        "    def pop(self): # Extrae un elemento\r\n",
        "        self.__size -= 1\r\n",
        "        return self.__data.pop()\r\n",
        "\r\n",
        "    def peek(self): # Solo wacha el elemento \r\n",
        "        return self.__data[-1]\r\n",
        "\r\n",
        "    def push(self, value): #Introduce un elemento\r\n",
        "        self.__size += 1\r\n",
        "        self.__data.append(value)\r\n",
        "\r\n",
        "    def to_string(self):\r\n",
        "        print(\"------\")\r\n",
        "        for dato in self.__data[::-1]:\r\n",
        "            print(f\"| {dato} |\")\r\n",
        "            print(\"------\")"
      ],
      "execution_count": 35,
      "outputs": []
    },
    {
      "cell_type": "code",
      "metadata": {
        "id": "CD0YB4lElyW6",
        "colab": {
          "base_uri": "https://localhost:8080/"
        },
        "outputId": "c7dc7a84-1e19-44e5-a2e2-6aa7665780c5"
      },
      "source": [
        "# 3. Sacar de un ADT pila el valor en la posición media\r\n",
        "pila = Stack()\r\n",
        "pila.push(\"Luisa\")\r\n",
        "pila.push(\"Cristal\")\r\n",
        "pila.push(\"Parmesano\")\r\n",
        "pila.push(\"Dory\")\r\n",
        "pila.push(\"Samantha\")\r\n",
        "pila.push(\"Karol\")\r\n",
        "print(pila.to_string())\r\n",
        "\r\n",
        "def pop_valor_medio(pila, lenPila):\r\n",
        "    if pila.length() == (lenPila//2) :\r\n",
        "        z = pila.pop()\r\n",
        "    else:\r\n",
        "        r = pila.pop()\r\n",
        "        print(r)\r\n",
        "        pop_valor_medio(pila, lenPila)\r\n",
        "        pila.push(r)\r\n",
        "\r\n",
        "pop_valor_medio(pila, pila.length())\r\n",
        "    \r\n",
        "pila.to_string()\r\n",
        "\r\n",
        "    "
      ],
      "execution_count": 39,
      "outputs": [
        {
          "output_type": "stream",
          "text": [
            "------\n",
            "| Karol |\n",
            "------\n",
            "| Samantha |\n",
            "------\n",
            "| Dory |\n",
            "------\n",
            "| Parmesano |\n",
            "------\n",
            "| Cristal |\n",
            "------\n",
            "| Luisa |\n",
            "------\n",
            "None\n",
            "Karol\n",
            "Samantha\n",
            "Dory\n",
            "------\n",
            "| Karol |\n",
            "------\n",
            "| Samantha |\n",
            "------\n",
            "| Dory |\n",
            "------\n",
            "| Cristal |\n",
            "------\n",
            "| Luisa |\n",
            "------\n"
          ],
          "name": "stdout"
        }
      ]
    },
    {
      "cell_type": "code",
      "metadata": {
        "colab": {
          "base_uri": "https://localhost:8080/"
        },
        "id": "_I5leTUsWVRe",
        "outputId": "efef9591-58ce-4e4e-d1e7-b37a0431aa1c"
      },
      "source": [
        "5//2"
      ],
      "execution_count": 37,
      "outputs": [
        {
          "output_type": "execute_result",
          "data": {
            "text/plain": [
              "2"
            ]
          },
          "metadata": {
            "tags": []
          },
          "execution_count": 37
        }
      ]
    },
    {
      "cell_type": "code",
      "metadata": {
        "colab": {
          "base_uri": "https://localhost:8080/"
        },
        "id": "NRWXzewSeTSB",
        "outputId": "15715655-71e2-4ad7-ae26-ddca215d4667"
      },
      "source": [
        "def suma_gauss(num):\r\n",
        "    if num > 0:\r\n",
        "        return num + suma_gauss(num -1)\r\n",
        "    else:\r\n",
        "        return 0\r\n",
        "\r\n",
        "suma_gauss(100)"
      ],
      "execution_count": 51,
      "outputs": [
        {
          "output_type": "execute_result",
          "data": {
            "text/plain": [
              "5050"
            ]
          },
          "metadata": {
            "tags": []
          },
          "execution_count": 51
        }
      ]
    }
  ]
}